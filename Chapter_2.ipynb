{
  "nbformat": 4,
  "nbformat_minor": 0,
  "metadata": {
    "colab": {
      "provenance": []
    },
    "kernelspec": {
      "name": "python3",
      "display_name": "Python 3"
    },
    "language_info": {
      "name": "python"
    }
  },
  "cells": [
    {
      "cell_type": "code",
      "execution_count": 3,
      "metadata": {
        "id": "axDzoYEhXxeq"
      },
      "outputs": [],
      "source": [
        "from typing import TypedDict, List\n",
        "from langgraph.graph import StateGraph"
      ]
    },
    {
      "cell_type": "code",
      "source": [
        "class AgentState(TypedDict):\n",
        "  values: List[int]\n",
        "  name: str\n",
        "  operation: str\n",
        "  result: str"
      ],
      "metadata": {
        "id": "4VblXkAJYAcF"
      },
      "execution_count": 14,
      "outputs": []
    },
    {
      "cell_type": "code",
      "source": [
        "def process_values(state: AgentState) -> AgentState:\n",
        "  \"\"\"This function handles multuple different inputs\"\"\"\n",
        "  if state[\"operation\"] == \"+\":\n",
        "    state[\"result\"] = f\"Hi there {state['name']}! Your sum = {sum(state['values'])}\"\n",
        "  elif state[\"operation\"] == \"*\":\n",
        "    def mult(nums):\n",
        "      product = 1\n",
        "      for num in nums:\n",
        "        product *= num\n",
        "      return product\n",
        "    state[\"result\"] = f\"Hi there {state['name']}! Your product = {mult(state['values'])}\"\n",
        "  return state"
      ],
      "metadata": {
        "id": "54i95qxqYdBa"
      },
      "execution_count": 16,
      "outputs": []
    },
    {
      "cell_type": "code",
      "source": [
        "graph = StateGraph(AgentState)\n",
        "graph.add_node(\"processor\", process_values)\n",
        "graph.set_entry_point(\"processor\")\n",
        "graph.set_finish_point(\"processor\")\n",
        "app = graph.compile()"
      ],
      "metadata": {
        "id": "izKcLw32Y-mD"
      },
      "execution_count": 17,
      "outputs": []
    },
    {
      "cell_type": "code",
      "source": [
        "answers = app.invoke({\"values\": [1,2,3,4], \"name\": \"Steve\", \"operation\": \"+\"})\n",
        "print(answers)"
      ],
      "metadata": {
        "colab": {
          "base_uri": "https://localhost:8080/"
        },
        "id": "7j4MPLA_ZLvc",
        "outputId": "16c47597-1182-4ac7-c12c-ae8c10a37864"
      },
      "execution_count": 19,
      "outputs": [
        {
          "output_type": "stream",
          "name": "stdout",
          "text": [
            "{'values': [1, 2, 3, 4], 'name': 'Steve', 'operation': '+', 'result': 'Hi there Steve! Your sum = 10'}\n"
          ]
        }
      ]
    },
    {
      "cell_type": "code",
      "source": [
        "nums = [1,2,3,4,5]\n",
        "[for x in nums]"
      ],
      "metadata": {
        "id": "gkoht1ncZcuC"
      },
      "execution_count": 10,
      "outputs": []
    },
    {
      "cell_type": "code",
      "source": [],
      "metadata": {
        "id": "DUdQPSnDapzc"
      },
      "execution_count": null,
      "outputs": []
    }
  ]
}