{
  "nbformat": 4,
  "nbformat_minor": 0,
  "metadata": {
    "colab": {
      "provenance": []
    },
    "kernelspec": {
      "name": "python3",
      "display_name": "Python 3"
    },
    "language_info": {
      "name": "python"
    }
  },
  "cells": [
    {
      "cell_type": "code",
      "execution_count": 3,
      "metadata": {
        "id": "cqFTpGzpbfHi"
      },
      "outputs": [],
      "source": [
        "from typing import TypedDict, List\n",
        "from langgraph.graph import StateGraph"
      ]
    },
    {
      "cell_type": "code",
      "source": [
        "# prompt: how to install this langgraph.graph\n",
        "\n",
        "!pip install -qU langchain-anthropic langgraph tavily-python"
      ],
      "metadata": {
        "colab": {
          "base_uri": "https://localhost:8080/"
        },
        "id": "5F120aAwbleZ",
        "outputId": "0a85a6eb-2888-47c2-f2a5-68dcc9f45f83"
      },
      "execution_count": 1,
      "outputs": [
        {
          "output_type": "stream",
          "name": "stdout",
          "text": [
            "\u001b[?25l     \u001b[90m━━━━━━━━━━━━━━━━━━━━━━━━━━━━━━━━━━━━━━━━\u001b[0m \u001b[32m0.0/43.7 kB\u001b[0m \u001b[31m?\u001b[0m eta \u001b[36m-:--:--\u001b[0m\r\u001b[2K     \u001b[90m━━━━━━━━━━━━━━━━━━━━━━━━━━━━━━━━━━━━━━━━\u001b[0m \u001b[32m43.7/43.7 kB\u001b[0m \u001b[31m3.8 MB/s\u001b[0m eta \u001b[36m0:00:00\u001b[0m\n",
            "\u001b[2K   \u001b[90m━━━━━━━━━━━━━━━━━━━━━━━━━━━━━━━━━━━━━━━━\u001b[0m \u001b[32m143.8/143.8 kB\u001b[0m \u001b[31m7.0 MB/s\u001b[0m eta \u001b[36m0:00:00\u001b[0m\n",
            "\u001b[2K   \u001b[90m━━━━━━━━━━━━━━━━━━━━━━━━━━━━━━━━━━━━━━━━\u001b[0m \u001b[32m292.9/292.9 kB\u001b[0m \u001b[31m12.7 MB/s\u001b[0m eta \u001b[36m0:00:00\u001b[0m\n",
            "\u001b[2K   \u001b[90m━━━━━━━━━━━━━━━━━━━━━━━━━━━━━━━━━━━━━━━━\u001b[0m \u001b[32m43.9/43.9 kB\u001b[0m \u001b[31m2.6 MB/s\u001b[0m eta \u001b[36m0:00:00\u001b[0m\n",
            "\u001b[2K   \u001b[90m━━━━━━━━━━━━━━━━━━━━━━━━━━━━━━━━━━━━━━━━\u001b[0m \u001b[32m50.2/50.2 kB\u001b[0m \u001b[31m4.4 MB/s\u001b[0m eta \u001b[36m0:00:00\u001b[0m\n",
            "\u001b[2K   \u001b[90m━━━━━━━━━━━━━━━━━━━━━━━━━━━━━━━━━━━━━━━━\u001b[0m \u001b[32m216.5/216.5 kB\u001b[0m \u001b[31m15.3 MB/s\u001b[0m eta \u001b[36m0:00:00\u001b[0m\n",
            "\u001b[?25h"
          ]
        }
      ]
    },
    {
      "cell_type": "code",
      "source": [
        "class AgentState(TypedDict):\n",
        "  name: str\n",
        "  age: int\n",
        "  skills: List[str]\n",
        "  final: str\n",
        "\n",
        "def first_node(state: AgentState) -> AgentState:\n",
        "  \"\"\"This is the first node in our sequence\"\"\"\n",
        "  state['final'] = f\"Hi {state['name']}, welcome!\"\n",
        "  return state\n",
        "\n",
        "def second_node(state: AgentState) -> AgentState:\n",
        "  \"\"\"This is the second node in our sequence\"\"\"\n",
        "  state['final'] = state['final'] + f\" You are {state['age']} years old\"\n",
        "  return state\n",
        "\n",
        "def third_node(state: AgentState) -> AgentState:\n",
        "  \"\"\"This is the third node in our sequence\"\"\"\n",
        "  state['final'] = state['final'] + f\" You have skills in {', '.join(state['skills'])}\"\n",
        "  return state\n",
        "\n"
      ],
      "metadata": {
        "id": "miJIWXEMboR7"
      },
      "execution_count": 14,
      "outputs": []
    },
    {
      "cell_type": "code",
      "source": [
        "graph = StateGraph(AgentState)\n",
        "graph.add_node(\"first_node\", first_node)\n",
        "graph.add_node(\"second_node\", second_node)\n",
        "graph.add_node(\"third_node\", third_node)\n",
        "graph.set_entry_point(\"first_node\")\n",
        "graph.add_edge(\"first_node\", \"second_node\")\n",
        "graph.add_edge(\"second_node\", \"third_node\")\n",
        "graph.set_finish_point(\"third_node\")\n",
        "\n",
        "app = graph.compile()"
      ],
      "metadata": {
        "id": "Hg8MJkQ_caFF"
      },
      "execution_count": 15,
      "outputs": []
    },
    {
      "cell_type": "code",
      "source": [
        "result = app.invoke({\"name\": \"Adolfo\", \"age\": 28, \"skills\": [\"cpp\", \"java\", \"python\"]})"
      ],
      "metadata": {
        "id": "xhx_Kvpjc6WO"
      },
      "execution_count": 16,
      "outputs": []
    },
    {
      "cell_type": "code",
      "source": [
        "print(result)"
      ],
      "metadata": {
        "colab": {
          "base_uri": "https://localhost:8080/"
        },
        "id": "crJM0UJgdPBH",
        "outputId": "1d0b6dc4-796d-4e4d-8668-1c577396f42b"
      },
      "execution_count": 17,
      "outputs": [
        {
          "output_type": "stream",
          "name": "stdout",
          "text": [
            "{'name': 'Adolfo', 'age': 28, 'skills': ['cpp', 'java', 'python'], 'final': 'Hi Adolfo, welcome! You are 28 years old You have skills in cpp, java, python'}\n"
          ]
        }
      ]
    },
    {
      "cell_type": "code",
      "source": [],
      "metadata": {
        "id": "TzkSKRtydQD3"
      },
      "execution_count": null,
      "outputs": []
    }
  ]
}