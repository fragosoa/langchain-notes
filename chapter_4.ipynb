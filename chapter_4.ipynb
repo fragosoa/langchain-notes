{
  "nbformat": 4,
  "nbformat_minor": 0,
  "metadata": {
    "colab": {
      "provenance": []
    },
    "kernelspec": {
      "name": "python3",
      "display_name": "Python 3"
    },
    "language_info": {
      "name": "python"
    }
  },
  "cells": [
    {
      "cell_type": "code",
      "execution_count": 3,
      "metadata": {
        "id": "17imLUkSKM9d"
      },
      "outputs": [],
      "source": [
        "from typing import TypedDict, List\n",
        "from langgraph.graph import StateGraph, START, END"
      ]
    },
    {
      "cell_type": "code",
      "source": [
        "!pip install -qU langchain-anthropic langgraph tavily-python"
      ],
      "metadata": {
        "colab": {
          "base_uri": "https://localhost:8080/"
        },
        "id": "R1M7VgaYKTsx",
        "outputId": "164c256c-98f1-4383-ccfc-0d8655e3feca"
      },
      "execution_count": 2,
      "outputs": [
        {
          "output_type": "stream",
          "name": "stdout",
          "text": [
            "\u001b[?25l     \u001b[90m━━━━━━━━━━━━━━━━━━━━━━━━━━━━━━━━━━━━━━━━\u001b[0m \u001b[32m0.0/43.7 kB\u001b[0m \u001b[31m?\u001b[0m eta \u001b[36m-:--:--\u001b[0m\r\u001b[2K     \u001b[90m━━━━━━━━━━━━━━━━━━━━━━━━━━━━━━━━━━━━━━━━\u001b[0m \u001b[32m43.7/43.7 kB\u001b[0m \u001b[31m3.2 MB/s\u001b[0m eta \u001b[36m0:00:00\u001b[0m\n",
            "\u001b[2K   \u001b[90m━━━━━━━━━━━━━━━━━━━━━━━━━━━━━━━━━━━━━━━━\u001b[0m \u001b[32m143.9/143.9 kB\u001b[0m \u001b[31m13.2 MB/s\u001b[0m eta \u001b[36m0:00:00\u001b[0m\n",
            "\u001b[2K   \u001b[90m━━━━━━━━━━━━━━━━━━━━━━━━━━━━━━━━━━━━━━━━\u001b[0m \u001b[32m292.9/292.9 kB\u001b[0m \u001b[31m19.8 MB/s\u001b[0m eta \u001b[36m0:00:00\u001b[0m\n",
            "\u001b[2K   \u001b[90m━━━━━━━━━━━━━━━━━━━━━━━━━━━━━━━━━━━━━━━━\u001b[0m \u001b[32m43.9/43.9 kB\u001b[0m \u001b[31m3.7 MB/s\u001b[0m eta \u001b[36m0:00:00\u001b[0m\n",
            "\u001b[2K   \u001b[90m━━━━━━━━━━━━━━━━━━━━━━━━━━━━━━━━━━━━━━━━\u001b[0m \u001b[32m50.3/50.3 kB\u001b[0m \u001b[31m4.0 MB/s\u001b[0m eta \u001b[36m0:00:00\u001b[0m\n",
            "\u001b[2K   \u001b[90m━━━━━━━━━━━━━━━━━━━━━━━━━━━━━━━━━━━━━━━━\u001b[0m \u001b[32m216.5/216.5 kB\u001b[0m \u001b[31m11.4 MB/s\u001b[0m eta \u001b[36m0:00:00\u001b[0m\n",
            "\u001b[?25h"
          ]
        }
      ]
    },
    {
      "cell_type": "code",
      "source": [
        "\n",
        "class AgentState(TypedDict):\n",
        "  number1: int\n",
        "  number2: int\n",
        "  operation1: str\n",
        "\n",
        "  number3: int\n",
        "  number4: int\n",
        "  operation2: str\n",
        "\n",
        "  finalNumber1: int\n",
        "  finalNumber2: int\n",
        "\n"
      ],
      "metadata": {
        "id": "XNqUwMPZKWNi"
      },
      "execution_count": 12,
      "outputs": []
    },
    {
      "cell_type": "code",
      "source": [
        "def adder(state: AgentState) -> AgentState:\n",
        "  \"\"\" This adds two numbers \"\"\"\n",
        "  state['finalNumber1'] = state['number1'] + state['number2']\n",
        "\n",
        "  return state\n",
        "\n",
        "def substractor(state: AgentState) -> AgentState:\n",
        "  \"\"\" This subtracts two numbers \"\"\"\n",
        "  state['finalNumber1'] = state['number1'] - state['number2']\n",
        "\n",
        "  return state\n",
        "\n",
        "def adder2(state: AgentState) -> AgentState:\n",
        "  \"\"\" This adds two numbers \"\"\"\n",
        "  state['finalNumber2'] = state['number3'] + state['number4']\n",
        "\n",
        "  return state\n",
        "\n",
        "def substractor2(state: AgentState) -> AgentState:\n",
        "  \"\"\" This subtracts two numbers \"\"\"\n",
        "  state['finalNumber2'] = state['number3'] - state['number4']\n",
        "\n",
        "  return state\n"
      ],
      "metadata": {
        "id": "vO33GA9CK6Ok"
      },
      "execution_count": 13,
      "outputs": []
    },
    {
      "cell_type": "code",
      "source": [
        "def decide_next_node(state: AgentState) -> AgentState:\n",
        "  if state['operation1'] == \"+\":\n",
        "    return \"addition_operation\"\n",
        "  elif state['operation1'] == '-':\n",
        "    return \"substraction_operation\"\n",
        "\n",
        "def decide_next_node2(state: AgentState) -> AgentState:\n",
        "  if state['operation2'] == \"+\":\n",
        "    return \"addition_operation\"\n",
        "  elif state['operation2'] == '-':\n",
        "    return \"substraction_operation\""
      ],
      "metadata": {
        "id": "BbWV7G6OLRAK"
      },
      "execution_count": 14,
      "outputs": []
    },
    {
      "cell_type": "code",
      "source": [
        "graph = StateGraph(AgentState)\n",
        "graph.add_node(\"add_node\",adder)\n",
        "graph.add_node(\"substract_node\",substractor)\n",
        "\n",
        "graph.add_node(\"add_node2\",adder2)\n",
        "graph.add_node(\"substract_node2\",substractor2)\n",
        "\n",
        "graph.add_node(\"router\",lambda state: state) # This is a passthrough function\n",
        "graph.add_node(\"router2\",lambda state: state) # This is a passthrough function\n",
        "\n",
        "graph.add_edge(START, \"router\")\n",
        "graph.add_conditional_edges(\n",
        "    \"router\",\n",
        "    decide_next_node,\n",
        "    {\n",
        "        \"addition_operation\": \"add_node\",\n",
        "        \"substraction_operation\": \"substract_node\"\n",
        "    }\n",
        ")\n",
        "graph.add_conditional_edges(\n",
        "    \"router2\",\n",
        "    decide_next_node2,\n",
        "    {\n",
        "        \"addition_operation\": \"add_node2\",\n",
        "        \"substraction_operation\": \"substract_node2\"\n",
        "    }\n",
        ")\n",
        "graph.add_edge(\"add_node\",\"router2\")\n",
        "graph.add_edge(\"substract_node\",\"router2\")\n",
        "\n",
        "graph.add_edge(\"add_node2\",END)\n",
        "graph.add_edge(\"substract_node2\",END)\n",
        "\n",
        "\n",
        "app = graph.compile()\n"
      ],
      "metadata": {
        "id": "UuXASn5oLsiq"
      },
      "execution_count": 20,
      "outputs": []
    },
    {
      "cell_type": "code",
      "source": [
        "inital_state = AgentState(number1 = 10, operation1=\"-\", number2=5, number3=7, number4=2, operation2=\"+\",finalNumber1=0, finalNumber2=0)\n",
        "print(app.invoke(inital_state))"
      ],
      "metadata": {
        "colab": {
          "base_uri": "https://localhost:8080/"
        },
        "id": "feEW-ialxdaO",
        "outputId": "a44069f5-b475-4857-dda2-19c37d7d1d01"
      },
      "execution_count": 21,
      "outputs": [
        {
          "output_type": "stream",
          "name": "stdout",
          "text": [
            "{'number1': 10, 'number2': 5, 'operation1': '-', 'number3': 7, 'number4': 2, 'operation2': '+', 'finalNumber1': 5, 'finalNumber2': 9}\n"
          ]
        }
      ]
    },
    {
      "cell_type": "code",
      "source": [],
      "metadata": {
        "id": "f25d9Jgmx34U"
      },
      "execution_count": null,
      "outputs": []
    }
  ]
}