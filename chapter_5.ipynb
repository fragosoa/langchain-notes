{
  "nbformat": 4,
  "nbformat_minor": 0,
  "metadata": {
    "colab": {
      "provenance": []
    },
    "kernelspec": {
      "name": "python3",
      "display_name": "Python 3"
    },
    "language_info": {
      "name": "python"
    }
  },
  "cells": [
    {
      "cell_type": "code",
      "execution_count": 22,
      "metadata": {
        "id": "17imLUkSKM9d"
      },
      "outputs": [],
      "source": [
        "from typing import TypedDict, List\n",
        "import random\n",
        "from langgraph.graph import StateGraph, START, END"
      ]
    },
    {
      "cell_type": "code",
      "source": [
        "!pip install -qU langchain-anthropic langgraph tavily-python"
      ],
      "metadata": {
        "colab": {
          "base_uri": "https://localhost:8080/"
        },
        "id": "R1M7VgaYKTsx",
        "outputId": "164c256c-98f1-4383-ccfc-0d8655e3feca"
      },
      "execution_count": 2,
      "outputs": [
        {
          "output_type": "stream",
          "name": "stdout",
          "text": [
            "\u001b[?25l     \u001b[90m━━━━━━━━━━━━━━━━━━━━━━━━━━━━━━━━━━━━━━━━\u001b[0m \u001b[32m0.0/43.7 kB\u001b[0m \u001b[31m?\u001b[0m eta \u001b[36m-:--:--\u001b[0m\r\u001b[2K     \u001b[90m━━━━━━━━━━━━━━━━━━━━━━━━━━━━━━━━━━━━━━━━\u001b[0m \u001b[32m43.7/43.7 kB\u001b[0m \u001b[31m3.2 MB/s\u001b[0m eta \u001b[36m0:00:00\u001b[0m\n",
            "\u001b[2K   \u001b[90m━━━━━━━━━━━━━━━━━━━━━━━━━━━━━━━━━━━━━━━━\u001b[0m \u001b[32m143.9/143.9 kB\u001b[0m \u001b[31m13.2 MB/s\u001b[0m eta \u001b[36m0:00:00\u001b[0m\n",
            "\u001b[2K   \u001b[90m━━━━━━━━━━━━━━━━━━━━━━━━━━━━━━━━━━━━━━━━\u001b[0m \u001b[32m292.9/292.9 kB\u001b[0m \u001b[31m19.8 MB/s\u001b[0m eta \u001b[36m0:00:00\u001b[0m\n",
            "\u001b[2K   \u001b[90m━━━━━━━━━━━━━━━━━━━━━━━━━━━━━━━━━━━━━━━━\u001b[0m \u001b[32m43.9/43.9 kB\u001b[0m \u001b[31m3.7 MB/s\u001b[0m eta \u001b[36m0:00:00\u001b[0m\n",
            "\u001b[2K   \u001b[90m━━━━━━━━━━━━━━━━━━━━━━━━━━━━━━━━━━━━━━━━\u001b[0m \u001b[32m50.3/50.3 kB\u001b[0m \u001b[31m4.0 MB/s\u001b[0m eta \u001b[36m0:00:00\u001b[0m\n",
            "\u001b[2K   \u001b[90m━━━━━━━━━━━━━━━━━━━━━━━━━━━━━━━━━━━━━━━━\u001b[0m \u001b[32m216.5/216.5 kB\u001b[0m \u001b[31m11.4 MB/s\u001b[0m eta \u001b[36m0:00:00\u001b[0m\n",
            "\u001b[?25h"
          ]
        }
      ]
    },
    {
      "cell_type": "code",
      "source": [
        "class AgentState(TypedDict):\n",
        "  player_name: str\n",
        "  guesses: List[int]\n",
        "  attempts: int\n",
        "  target: int\n",
        "  lower_bound: int\n",
        "  upper_bound: int"
      ],
      "metadata": {
        "id": "f25d9Jgmx34U"
      },
      "execution_count": 35,
      "outputs": []
    },
    {
      "cell_type": "code",
      "source": [
        "def setup(state: AgentState) -> AgentState:\n",
        "  state[\"attempts\"] = 0\n",
        "  state[\"guesses\"] = []\n",
        "  state[\"lower_bound\"] = 1\n",
        "  state[\"upper_bound\"] = 20\n",
        "  state[\"target\"] = random.randint(state[\"lower_bound\"], state[\"upper_bound\"])\n",
        "\n",
        "  return state\n",
        "\n",
        "def guess(state: AgentState) -> AgentState:\n",
        "  state[\"attempts\"] += 1\n",
        "  guess = random.randint(state[\"lower_bound\"], state[\"upper_bound\"])\n",
        "  print(f\"Im guessing {guess}\")\n",
        "  if guess > state[\"target\"]:\n",
        "    print(\"guess is greater\")\n",
        "    state[\"upper_bound\"] = guess\n",
        "  elif guess < state[\"target\"]:\n",
        "    print(\"guess is lower\")\n",
        "    state[\"lower_bound\"] = guess\n",
        "  state[\"guesses\"].append(guess)\n",
        "\n",
        "  return state\n",
        "\n",
        "def should_continue(state: AgentState):\n",
        "  if state[\"guesses\"][-1] == state[\"target\"]:\n",
        "    print(\"WIN\")\n",
        "    return \"exit\"\n",
        "  if state[\"attempts\"] >= 7:\n",
        "    print(\"LOSE\")\n",
        "    return \"exit\"\n",
        "\n",
        "  return \"loop\""
      ],
      "metadata": {
        "id": "XkTPUTn21htu"
      },
      "execution_count": 38,
      "outputs": []
    },
    {
      "cell_type": "code",
      "source": [
        "graph = StateGraph(AgentState)\n",
        "\n",
        "graph.add_node(\"setup\", setup)\n",
        "graph.add_node(\"guess\", guess)\n",
        "graph.add_edge(\"setup\",\"guess\")\n",
        "\n",
        "graph.add_conditional_edges(\n",
        "    \"guess\",\n",
        "    should_continue,\n",
        "    {\n",
        "        \"loop\": \"guess\",\n",
        "        \"exit\": END\n",
        "    }\n",
        ")\n",
        "\n",
        "graph.set_entry_point(\"setup\")\n",
        "app = graph.compile()\n"
      ],
      "metadata": {
        "id": "kimEP4Oj1o-C"
      },
      "execution_count": 40,
      "outputs": []
    },
    {
      "cell_type": "code",
      "source": [
        "app.invoke({\"name\": \"Adolfo\", \"number\": [], \"target\": -1})"
      ],
      "metadata": {
        "colab": {
          "base_uri": "https://localhost:8080/"
        },
        "id": "jSElxcUZ25ME",
        "outputId": "4876c0f1-9b35-4954-ac6c-ff403fe686a8"
      },
      "execution_count": 43,
      "outputs": [
        {
          "output_type": "stream",
          "name": "stdout",
          "text": [
            "Im guessing 19\n",
            "guess is greater\n",
            "Im guessing 17\n",
            "guess is greater\n",
            "Im guessing 13\n",
            "guess is greater\n",
            "Im guessing 1\n",
            "guess is lower\n",
            "Im guessing 8\n",
            "guess is greater\n",
            "Im guessing 2\n",
            "WIN\n"
          ]
        },
        {
          "output_type": "execute_result",
          "data": {
            "text/plain": [
              "{'guesses': [19, 17, 13, 1, 8, 2],\n",
              " 'attempts': 6,\n",
              " 'target': 2,\n",
              " 'lower_bound': 1,\n",
              " 'upper_bound': 8}"
            ]
          },
          "metadata": {},
          "execution_count": 43
        }
      ]
    },
    {
      "cell_type": "code",
      "source": [],
      "metadata": {
        "id": "s1Pjovr93Ggf"
      },
      "execution_count": 42,
      "outputs": []
    },
    {
      "cell_type": "code",
      "source": [],
      "metadata": {
        "id": "RagGtHEg4xA7"
      },
      "execution_count": null,
      "outputs": []
    }
  ]
}